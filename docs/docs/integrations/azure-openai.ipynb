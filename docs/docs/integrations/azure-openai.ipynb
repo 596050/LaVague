{
 "cells": [
  {
   "cell_type": "markdown",
   "metadata": {},
   "source": [
    "# Azure OpenAI\n",
    "\n",
    "**Under construction**"
   ]
  },
  {
   "cell_type": "markdown",
   "metadata": {},
   "source": [
    "from lavague import ActionEngine, CommandCenter\n",
    "from lavague.defaults import DefaultEmbedder\n",
    "import os.path\n",
    "\n",
    "homedir = os.path.expanduser(\"~\")\n",
    "\n",
    "import os\n",
    "from llama_index.llms.azure_openai import AzureOpenAI\n",
    "\n",
    "api_key=os.getenv(\"AZURE_OPENAI_KEY\")\n",
    "api_version=\"2023-05-15\"\n",
    "azure_endpoint = os.getenv(\"AZURE_OPENAI_ENDPOINT\")\n",
    "model = \"gpt-4\"\n",
    "deployment_name = \"gpt-4-turbo\"\n",
    "\n",
    "llm = AzureOpenAI(\n",
    "    model=model,\n",
    "    deployment_name=deployment_name,\n",
    "    api_key=api_key,\n",
    "    azure_endpoint=azure_endpoint,\n",
    "    api_version=api_version,\n",
    "    temperature=0.0\n",
    ")\n",
    "\n",
    "commandCenter = CommandCenter(\n",
    "    ActionEngine(\n",
    "        llm,\n",
    "        DefaultEmbedder(),\n",
    "    ),\n",
    "    chromePath=f\"{homedir}/chrome-linux64/chrome\",\n",
    "    chromedriverPath=f\"{homedir}/chromedriver-linux64/chromedriver\",\n",
    ")\n",
    "\n",
    "commandCenter.run(\n",
    "    \"https://huggingface.co\",\n",
    "    [\n",
    "        \"Click on the Datasets item on the menu, between Models and Spaces\",\n",
    "        \"Click on the search bar 'Filter by name', type 'The Stack', and press 'Enter'\",\n",
    "        \"Scroll by 500 pixels\",\n",
    "    ],\n",
    ")\n"
   ]
  }
 ],
 "metadata": {
  "kernelspec": {
   "display_name": "lavague",
   "language": "python",
   "name": "python3"
  },
  "language_info": {
   "name": "python",
   "version": "3.10.13"
  }
 },
 "nbformat": 4,
 "nbformat_minor": 2
}
