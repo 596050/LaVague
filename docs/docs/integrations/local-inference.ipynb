{
 "cells": [
  {
   "cell_type": "markdown",
   "metadata": {},
   "source": [
    "# Local inference\n",
    "\n",
    "**Under construction**"
   ]
  },
  {
   "cell_type": "code",
   "execution_count": null,
   "metadata": {},
   "outputs": [],
   "source": [
    "from lavague import CommandCenter, ActionEngine\n",
    "from lavague.prompts import GEMMA_PROMPT\n",
    "from transformers import BitsAndBytesConfig\n",
    "from torch import bfloat16\n",
    "import os.path\n",
    "from llama_index.llms.huggingface import HuggingFaceLLM\n",
    "from transformers import AutoTokenizer, AutoModelForCausalLM, BitsAndBytesConfig\n",
    "import torch\n",
    "from lavague.defaults import DefaultEmbedder\n",
    "\n",
    "homedir = os.path.expanduser(\"~\")\n",
    "\n",
    "# Beware, if you don't have a nvidia GPU, this quantization config won't work\n",
    "# To check if you have one configured correctly, you can run python -m bitsandbytes in your terminal\n",
    "\n",
    "model_id = \"HuggingFaceH4/zephyr-7b-gemma-v0.1\"\n",
    "\n",
    "quantization_config = BitsAndBytesConfig(load_in_8bit=True)\n",
    "\n",
    "tokenizer = AutoTokenizer.from_pretrained(model_id)\n",
    "model = AutoModelForCausalLM.from_pretrained(model_id, device_map=\"auto\", quantization_config=quantization_config)\n",
    "\n",
    "model_kwargs = {\n",
    "    \"temperature\": 0.0,\n",
    "}\n",
    "\n",
    "# We will stop generation as soon as the model outputs the end of Markdown to make inference faster\n",
    "stop_token_id = [tokenizer.convert_tokens_to_ids(\"---\"), tokenizer.convert_tokens_to_ids(\"```\")]\n",
    "llm = HuggingFaceLLM(model=model, tokenizer=tokenizer, max_new_tokens=1024,\n",
    "                     stopping_ids=stop_token_id, model_kwargs=model_kwargs)\n",
    "\n",
    "# We needed to steer the model more with a more explicit prompt\n",
    "prompt_template = GEMMA_PROMPT\n",
    "\n",
    "cleaning_function = lambda code: code.split(\"```\")[0]\n",
    "commandCenter = CommandCenter(\n",
    "    ActionEngine(\n",
    "        llm,\n",
    "        DefaultEmbedder(),\n",
    "        GEMMA_PROMPT,\n",
    "        cleaning_function=cleaning_function,\n",
    "    ),\n",
    "    chromePath=f\"{homedir}/chrome-linux64/chrome\",\n",
    "    chromedriverPath=f\"{homedir}/chromedriver-linux64/chromedriver\",\n",
    ")\n",
    "commandCenter.run(\n",
    "    \"https://huggingface.co\",\n",
    "    [\n",
    "        \"Click on the Datasets item on the menu, between Models and Spaces\",\n",
    "        \"Click on the search bar 'Filter by name', type 'The Stack', and press 'Enter'\",\n",
    "        \"Scroll by 500 pixels\",\n",
    "    ],\n",
    ")\n"
   ]
  }
 ],
 "metadata": {
  "kernelspec": {
   "display_name": "lavague",
   "language": "python",
   "name": "python3"
  },
  "language_info": {
   "name": "python",
   "version": "3.10.13"
  }
 },
 "nbformat": 4,
 "nbformat_minor": 2
}
