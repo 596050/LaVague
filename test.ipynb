{
 "cells": [
  {
   "cell_type": "code",
   "execution_count": 1,
   "metadata": {},
   "outputs": [
    {
     "name": "stderr",
     "output_type": "stream",
     "text": [
      "/home/daniel/miniconda3/envs/lavague/lib/python3.10/site-packages/tqdm/auto.py:21: TqdmWarning: IProgress not found. Please update jupyter and ipywidgets. See https://ipywidgets.readthedocs.io/en/stable/user_install.html\n",
      "  from .autonotebook import tqdm as notebook_tqdm\n",
      "Loading checkpoint shards: 100%|██████████| 4/4 [00:03<00:00,  1.19it/s]\n"
     ]
    },
    {
     "name": "stdout",
     "output_type": "stream",
     "text": [
      "Running on local URL:  http://127.0.0.1:7860\n",
      "Running on public URL: https://1ddaca8f64a1d5a9a2.gradio.live\n",
      "\n",
      "This share link expires in 72 hours. For free permanent hosting and GPU upgrades, run `gradio deploy` from Terminal to deploy to Spaces (https://huggingface.co/spaces)\n"
     ]
    },
    {
     "data": {
      "text/html": [
       "<div><iframe src=\"https://1ddaca8f64a1d5a9a2.gradio.live\" width=\"100%\" height=\"500\" allow=\"autoplay; camera; microphone; clipboard-read; clipboard-write;\" frameborder=\"0\" allowfullscreen></iframe></div>"
      ],
      "text/plain": [
       "<IPython.core.display.HTML object>"
      ]
     },
     "metadata": {},
     "output_type": "display_data"
    },
    {
     "name": "stderr",
     "output_type": "stream",
     "text": [
      "/home/daniel/miniconda3/envs/lavague/lib/python3.10/site-packages/tree_sitter/__init__.py:36: FutureWarning: Language(path, name) is deprecated. Use Language(ptr, name) instead.\n",
      "  warn(\"{} is deprecated. Use {} instead.\".format(old, new), FutureWarning)\n",
      "/home/daniel/miniconda3/envs/lavague/lib/python3.10/site-packages/bitsandbytes/nn/modules.py:226: UserWarning: Input type into Linear4bit is torch.float16, but bnb_4bit_compute_dtype=torch.float32 (default). This will lead to slow inference or training speed.\n",
      "  warnings.warn(f'Input type into Linear4bit is torch.float16, but bnb_4bit_compute_dtype=torch.float32 (default). This will lead to slow inference or training speed.')\n"
     ]
    }
   ],
   "source": [
    "from lavague import CommandCenter, ActionEngine\n",
    "from lavague.prompts import GEMMA_PROMPT\n",
    "from transformers import BitsAndBytesConfig\n",
    "from torch import bfloat16\n",
    "import os.path\n",
    "from llama_index.llms.huggingface import HuggingFaceLLM\n",
    "from transformers import AutoTokenizer, AutoModelForCausalLM, BitsAndBytesConfig\n",
    "import torch\n",
    "from lavague.defaults import DefaultEmbedder\n",
    "\n",
    "homedir = os.path.expanduser(\"~\")\n",
    "\n",
    "# Beware, if you don't have a nvidia GPU, this quantization config won't work\n",
    "# To check if you have one configured correctly, you can run python -m bitsandbytes in your terminal\n",
    "\n",
    "model_id = \"HuggingFaceH4/zephyr-7b-gemma-v0.1\"\n",
    "\n",
    "quantization_config = BitsAndBytesConfig(\n",
    "load_in_8bit=True)\n",
    "\n",
    "tokenizer = AutoTokenizer.from_pretrained(model_id)\n",
    "model = AutoModelForCausalLM.from_pretrained(model_id, device_map=\"auto\", quantization_config=quantization_config)\n",
    "\n",
    "model_kwargs = {\n",
    "    \"temperature\": 0.0,\n",
    "}\n",
    "\n",
    "# We will stop generation as soon as the model outputs the end of Markdown to make inference faster\n",
    "stop_token_id = [tokenizer.convert_tokens_to_ids(\"---\"), tokenizer.convert_tokens_to_ids(\"```\")]\n",
    "llm = HuggingFaceLLM(model=model, tokenizer=tokenizer, max_new_tokens=1024,\n",
    "                     stopping_ids=stop_token_id, model_kwargs=model_kwargs)\n",
    "\n",
    "prompt_template = GEMMA_PROMPT\n",
    "cleaning_function = lambda code: code.split(\"```\")[0]\n",
    "commandCenter = CommandCenter(\n",
    "    ActionEngine(\n",
    "        llm,\n",
    "        DefaultEmbedder(),\n",
    "        GEMMA_PROMPT,\n",
    "        cleaning_function=cleaning_function,\n",
    "    ),\n",
    "    chromePath=f\"{homedir}/chrome-linux64/chrome\",\n",
    "    chromedriverPath=f\"{homedir}/chromedriver-linux64/chromedriver\",\n",
    ")\n",
    "commandCenter.run(\n",
    "    \"https://huggingface.co\",\n",
    "    [\n",
    "        \"Click on the Datasets item on the menu, between Models and Spaces\",\n",
    "        \"Click on the search bar 'Filter by name', type 'The Stack', and press 'Enter'\",\n",
    "        \"Scroll by 500 pixels\",\n",
    "    ],\n",
    ")\n"
   ]
  },
  {
   "cell_type": "code",
   "execution_count": null,
   "metadata": {},
   "outputs": [],
   "source": []
  }
 ],
 "metadata": {
  "kernelspec": {
   "display_name": "lavague",
   "language": "python",
   "name": "python3"
  },
  "language_info": {
   "codemirror_mode": {
    "name": "ipython",
    "version": 3
   },
   "file_extension": ".py",
   "mimetype": "text/x-python",
   "name": "python",
   "nbconvert_exporter": "python",
   "pygments_lexer": "ipython3",
   "version": "3.10.13"
  }
 },
 "nbformat": 4,
 "nbformat_minor": 2
}
